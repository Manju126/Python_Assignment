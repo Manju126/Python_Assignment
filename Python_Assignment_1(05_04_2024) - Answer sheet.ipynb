{
  "cells": [
    {
      "cell_type": "markdown",
      "metadata": {
        "id": "9_siXIRQje9m"
      },
      "source": [
        "1.Data Types: Name five different data types in Python and provide an example of each."
      ]
    },
    {
      "cell_type": "markdown",
      "metadata": {},
      "source": [
        "INTEGER"
      ]
    },
    {
      "cell_type": "code",
      "execution_count": 320,
      "metadata": {},
      "outputs": [
        {
          "name": "stdout",
          "output_type": "stream",
          "text": [
            "10\n"
          ]
        }
      ],
      "source": [
        "x = 10\n",
        "y = 15\n",
        "print(x)"
      ]
    },
    {
      "cell_type": "markdown",
      "metadata": {},
      "source": [
        "FLOAT"
      ]
    },
    {
      "cell_type": "code",
      "execution_count": 321,
      "metadata": {},
      "outputs": [
        {
          "name": "stdout",
          "output_type": "stream",
          "text": [
            "8.0\n"
          ]
        }
      ],
      "source": [
        "x = 3.1\n",
        "y = 4.9\n",
        "print(x + y)"
      ]
    },
    {
      "cell_type": "markdown",
      "metadata": {},
      "source": [
        "STRING"
      ]
    },
    {
      "cell_type": "code",
      "execution_count": 322,
      "metadata": {},
      "outputs": [
        {
          "name": "stdout",
          "output_type": "stream",
          "text": [
            "Hello World!\n"
          ]
        }
      ],
      "source": [
        "message = \"Hello World!\"\n",
        "print(message)"
      ]
    },
    {
      "cell_type": "markdown",
      "metadata": {},
      "source": [
        "BOOLEAN"
      ]
    },
    {
      "cell_type": "code",
      "execution_count": 323,
      "metadata": {},
      "outputs": [
        {
          "name": "stdout",
          "output_type": "stream",
          "text": [
            "True\n"
          ]
        }
      ],
      "source": [
        "is_apple = True\n",
        "is_banana = False\n",
        "print(is_apple)"
      ]
    },
    {
      "cell_type": "markdown",
      "metadata": {},
      "source": [
        "LIST"
      ]
    },
    {
      "cell_type": "code",
      "execution_count": 324,
      "metadata": {},
      "outputs": [
        {
          "name": "stdout",
          "output_type": "stream",
          "text": [
            "[1, 2, 3, 4, 5]\n"
          ]
        }
      ],
      "source": [
        "num = [1,2,3,4,5]\n",
        "print(num)"
      ]
    },
    {
      "cell_type": "markdown",
      "metadata": {},
      "source": []
    },
    {
      "cell_type": "markdown",
      "metadata": {
        "id": "nQOdJHwHjkSP"
      },
      "source": [
        "2.Control Flow - Nested if: What is a nested if statement? Provide an example demonstrating nested if-else blocks."
      ]
    },
    {
      "cell_type": "markdown",
      "metadata": {},
      "source": [
        "Nested if is an if statement.This allows for mor conditionallogic by executing different code blocks based on multiple conditions"
      ]
    },
    {
      "cell_type": "code",
      "execution_count": 325,
      "metadata": {},
      "outputs": [
        {
          "name": "stdout",
          "output_type": "stream",
          "text": [
            "x is greater than y\n"
          ]
        }
      ],
      "source": [
        "x = 20\n",
        "y = 15 \n",
        "if x > y:\n",
        "    print(\"x is greater than y\")\n",
        "    if x < y:\n",
        "        print(\"y is less than x\")\n",
        "else:\n",
        "    print(\" x is not equal to y\")"
      ]
    },
    {
      "cell_type": "markdown",
      "metadata": {
        "id": "LohFxFacjrgX"
      },
      "source": [
        "3.Membership Operators: What are membership operators in Python? Provide an example demonstrating their use"
      ]
    },
    {
      "cell_type": "markdown",
      "metadata": {},
      "source": [
        "In python membership operatots are used to test whether a value or variable is found with in a sequence  such as strings,lists,tuples."
      ]
    },
    {
      "cell_type": "code",
      "execution_count": 326,
      "metadata": {},
      "outputs": [
        {
          "name": "stdout",
          "output_type": "stream",
          "text": [
            "3 is in the list\n"
          ]
        }
      ],
      "source": [
        "list = [1,2,3,4,5]\n",
        "if 3 in list:\n",
        "    print(\"3 is in the list\")"
      ]
    },
    {
      "cell_type": "markdown",
      "metadata": {
        "id": "ugQUjDCdjwwC"
      },
      "source": [
        "4.Loops - for loop: How does a for loop work in Python? Provide an example of iterating through a list using a for loop."
      ]
    },
    {
      "cell_type": "markdown",
      "metadata": {},
      "source": [
        "In python for loop is used to iterate over a sequence or an iterable object.The loop continues until all the elements in the sequence or iterable have been processed."
      ]
    },
    {
      "cell_type": "code",
      "execution_count": 327,
      "metadata": {},
      "outputs": [
        {
          "name": "stdout",
          "output_type": "stream",
          "text": [
            "1\n",
            "2\n",
            "3\n",
            "4\n",
            "5\n"
          ]
        }
      ],
      "source": [
        "list = [1,2,3,4,5]\n",
        "for numbers in list:\n",
        "    print(numbers)\n",
        "    "
      ]
    },
    {
      "cell_type": "code",
      "execution_count": null,
      "metadata": {},
      "outputs": [],
      "source": []
    },
    {
      "cell_type": "markdown",
      "metadata": {},
      "source": []
    },
    {
      "cell_type": "markdown",
      "metadata": {
        "id": "6hh6ZV1mjyo_"
      },
      "source": [
        "5.Control Flow - match-case statement: What is the match-case statement introduced in Python 3.10, and how does it differ from traditional switch statements?"
      ]
    },
    {
      "cell_type": "markdown",
      "metadata": {},
      "source": [
        "The match-case statement in python 3.10 provides a new way to perform pattern matching in python.It provides a concise and expensive way to perform conditional branching based on the structure of data."
      ]
    },
    {
      "cell_type": "code",
      "execution_count": 328,
      "metadata": {},
      "outputs": [
        {
          "name": "stdout",
          "output_type": "stream",
          "text": [
            "One\n"
          ]
        }
      ],
      "source": [
        "def check_num(x):\n",
        "    match x:\n",
        "        case 0:\n",
        "            print(\"Zero\")\n",
        "        case 1:\n",
        "            print(\"One\")\n",
        "        case _:\n",
        "            print(\"Nothing\")\n",
        "check_num(1)"
      ]
    },
    {
      "cell_type": "markdown",
      "metadata": {
        "id": "aS918q8Ij5JH"
      },
      "source": [
        "6.Arithmetic Operators: Explain the purpose of arithmetic operators in Python and give examples of their use."
      ]
    },
    {
      "cell_type": "markdown",
      "metadata": {},
      "source": [
        "In python Arhimetic operators are used to perform mathematical operations on numbers.They allow to add,subtract,multiply,divide,and perform other arithmetic operations."
      ]
    },
    {
      "cell_type": "code",
      "execution_count": 329,
      "metadata": {},
      "outputs": [
        {
          "name": "stdout",
          "output_type": "stream",
          "text": [
            "15\n"
          ]
        }
      ],
      "source": [
        "x = 5\n",
        "y = 10\n",
        "print(x+y)"
      ]
    },
    {
      "cell_type": "code",
      "execution_count": 330,
      "metadata": {},
      "outputs": [
        {
          "name": "stdout",
          "output_type": "stream",
          "text": [
            "15\n"
          ]
        }
      ],
      "source": [
        "x = 20 \n",
        "y = 5\n",
        "print(x-y)"
      ]
    },
    {
      "cell_type": "code",
      "execution_count": 331,
      "metadata": {},
      "outputs": [
        {
          "name": "stdout",
          "output_type": "stream",
          "text": [
            "391\n"
          ]
        }
      ],
      "source": [
        "x = 23\n",
        "y = 17\n",
        "print(x*y)"
      ]
    },
    {
      "cell_type": "code",
      "execution_count": 332,
      "metadata": {},
      "outputs": [
        {
          "name": "stdout",
          "output_type": "stream",
          "text": [
            "4.0\n"
          ]
        }
      ],
      "source": [
        "x = 20\n",
        "y = 5\n",
        "print(x/y)"
      ]
    },
    {
      "cell_type": "code",
      "execution_count": 333,
      "metadata": {},
      "outputs": [
        {
          "name": "stdout",
          "output_type": "stream",
          "text": [
            "0\n"
          ]
        }
      ],
      "source": [
        "x = 20 \n",
        "y =5\n",
        "print(x%y)"
      ]
    },
    {
      "cell_type": "markdown",
      "metadata": {
        "id": "zPx-7matkfeR"
      },
      "source": [
        "7.Control Flow - Describe the use of if, elif, and else in Python's control flow and provide an example."
      ]
    },
    {
      "cell_type": "markdown",
      "metadata": {},
      "source": [
        "In python if,elif,else are used for controlling the flow of execution based on conditional expressions.They allow to specify differernt blocks of code to execute depending on wether certain conditions are true or false."
      ]
    },
    {
      "cell_type": "code",
      "execution_count": 334,
      "metadata": {},
      "outputs": [
        {
          "name": "stdout",
          "output_type": "stream",
          "text": [
            "x is greater than 10\n"
          ]
        }
      ],
      "source": [
        "x = 20\n",
        "if x > 10:\n",
        "    print(\"x is greater than 10\")\n",
        "elif x == 20:\n",
        "    print(\"x is equal to 20\")\n",
        "else:\n",
        "    print(False)"
      ]
    },
    {
      "cell_type": "markdown",
      "metadata": {
        "id": "2yHXziD8q5qO"
      },
      "source": [
        "9.Variables: Describe the concept of variables in Python, including variable naming rules.Give Examples."
      ]
    },
    {
      "cell_type": "markdown",
      "metadata": {},
      "source": [
        "In python variables are used to store data values they act as place holder for various types of infrmation like numbers,strings,lists or ore complex data structures."
      ]
    },
    {
      "cell_type": "code",
      "execution_count": 335,
      "metadata": {},
      "outputs": [
        {
          "name": "stdout",
          "output_type": "stream",
          "text": [
            "Jhon\n",
            "25\n",
            "8.5\n",
            "True\n"
          ]
        }
      ],
      "source": [
        "name = \"Jhon\"\n",
        "age = 25\n",
        "average_score =8.5\n",
        "is_student = True\n",
        "print(name)\n",
        "print(age)\n",
        "print(average_score)\n",
        "print(is_student)"
      ]
    },
    {
      "cell_type": "markdown",
      "metadata": {
        "id": "022e4cZPrBJ3"
      },
      "source": [
        "10.Bitwise Operators: Explain bitwise operators (AND, XOR) in Python with examples."
      ]
    },
    {
      "cell_type": "markdown",
      "metadata": {},
      "source": [
        "\n",
        "In Python, bitwise operators are used to perform operations at the binary level on integers. Bitwise operators work on individual bits of integers and are particularly useful in tasks involving low-level manipulation of binary data, cryptography, and optimization. Among the bitwise operators, the AND (&) and XOR (^) operators are commonly used. Below are explanations and examples for each."
      ]
    },
    {
      "cell_type": "code",
      "execution_count": 336,
      "metadata": {},
      "outputs": [
        {
          "name": "stdout",
          "output_type": "stream",
          "text": [
            "1\n"
          ]
        }
      ],
      "source": [
        "a = 5    # 0101 in binary\n",
        "b = 3    # 0011 in binary\n",
        "\n",
        "result = a & b\n",
        "print(result) "
      ]
    },
    {
      "cell_type": "markdown",
      "metadata": {
        "id": "ZhG7bZHfrGV-"
      },
      "source": [
        "11.Loop Control - What does the break statement do in Python loops? Give an example."
      ]
    },
    {
      "cell_type": "markdown",
      "metadata": {},
      "source": [
        "\n",
        "In Python, the break statement is used to exit a loop prematurely. When a break statement is encountered within a loop, the loop is terminated immediately, and the program control moves to the next statement after the loop. This allows you to stop the execution of a loop based on a certain condition, even if the loop's iteration conditions have not been met."
      ]
    },
    {
      "cell_type": "code",
      "execution_count": 337,
      "metadata": {},
      "outputs": [
        {
          "name": "stdout",
          "output_type": "stream",
          "text": [
            "1\n",
            "2\n",
            "3\n",
            "4\n",
            "5\n",
            "Loop exited.\n"
          ]
        }
      ],
      "source": [
        "numbers = [1, 2, 3, 4, 5, 6, 7, 8, 9, 10]\n",
        "\n",
        "# Iterate over the list of numbers\n",
        "for num in numbers:\n",
        "    # If the number is greater than 5, exit the loop\n",
        "    if num > 5:\n",
        "        break\n",
        "    print(num)\n",
        "\n",
        "print(\"Loop exited.\")"
      ]
    },
    {
      "cell_type": "markdown",
      "metadata": {
        "id": "HOSAHxf0rKsk"
      },
      "source": [
        "12.Assignment Operators: Describe the different types of assignment operators in Python and provide examples of their usage."
      ]
    },
    {
      "cell_type": "markdown",
      "metadata": {},
      "source": [
        "In Python, assignment operators are used to assign values to variables. They combine the operation of assigning a value with another operation like addition, subtraction, multiplication, etc. "
      ]
    },
    {
      "cell_type": "code",
      "execution_count": 338,
      "metadata": {},
      "outputs": [],
      "source": [
        "x = 5\n",
        "x += 3  "
      ]
    },
    {
      "cell_type": "code",
      "execution_count": 339,
      "metadata": {},
      "outputs": [],
      "source": [
        "x = 5\n",
        "x -= 2 "
      ]
    },
    {
      "cell_type": "code",
      "execution_count": 340,
      "metadata": {},
      "outputs": [],
      "source": [
        "x = 5\n",
        "x *= 4"
      ]
    },
    {
      "cell_type": "markdown",
      "metadata": {
        "id": "5orrJ6VFrMZZ"
      },
      "source": [
        "13.String Methods: Name three string methods in Python and describe their uses."
      ]
    },
    {
      "cell_type": "markdown",
      "metadata": {},
      "source": [
        "1.str.lower():\n",
        "\n",
        "This method returns a copy of the string with all alphabetic characters converted to lowercase."
      ]
    },
    {
      "cell_type": "code",
      "execution_count": 341,
      "metadata": {},
      "outputs": [
        {
          "name": "stdout",
          "output_type": "stream",
          "text": [
            "hello world\n"
          ]
        }
      ],
      "source": [
        "string = \"Hello World\"\n",
        "lower_string = string.lower()\n",
        "print(lower_string)"
      ]
    },
    {
      "cell_type": "markdown",
      "metadata": {},
      "source": [
        "2.str.upper():\n",
        "\n",
        "This method returns a copy of the string with all alphabetic characters converted to uppercase."
      ]
    },
    {
      "cell_type": "code",
      "execution_count": 342,
      "metadata": {},
      "outputs": [
        {
          "name": "stdout",
          "output_type": "stream",
          "text": [
            "HELLO WORLD\n"
          ]
        }
      ],
      "source": [
        "string = \"Hello World\"\n",
        "upper_string = string.upper()\n",
        "print(upper_string)"
      ]
    },
    {
      "cell_type": "markdown",
      "metadata": {
        "id": "rcqvsYa_rWQ1"
      },
      "source": [
        "14.Loop Control - Describe the purpose of the continue statement in Python loops and provide an example of its use."
      ]
    },
    {
      "cell_type": "markdown",
      "metadata": {},
      "source": [
        "\n",
        "In Python, the continue statement is used to skip the rest of the code inside a loop for the current iteration and move to the next iteration of the loop."
      ]
    },
    {
      "cell_type": "code",
      "execution_count": 343,
      "metadata": {},
      "outputs": [
        {
          "name": "stdout",
          "output_type": "stream",
          "text": [
            "1\n",
            "3\n",
            "5\n",
            "7\n",
            "9\n"
          ]
        }
      ],
      "source": [
        "for i in range(1, 11):\n",
        "    # If the number is even, skip it\n",
        "    if i % 2 == 0:\n",
        "        continue\n",
        "    print(i)"
      ]
    },
    {
      "cell_type": "markdown",
      "metadata": {
        "id": "zzO_aJFZrb-p"
      },
      "source": [
        "15.Identity Operators: Describe identity operators in Python and explain when they are used."
      ]
    },
    {
      "cell_type": "markdown",
      "metadata": {},
      "source": [
        "In Python, identity operators are used to compare the memory locations of two objects to check if they refer to the same object or not. Python provides two identity operators:\n",
        "\n",
        "is: This operator returns True if two variables point to the same object, and False otherwise.\n",
        "\n",
        "is not: This operator returns True if two variables do not point to the same object, and False otherwise."
      ]
    },
    {
      "cell_type": "code",
      "execution_count": 344,
      "metadata": {},
      "outputs": [
        {
          "name": "stdout",
          "output_type": "stream",
          "text": [
            "True\n",
            "False\n",
            "True\n",
            "False\n"
          ]
        }
      ],
      "source": [
        "list1 = [1, 2, 3]\n",
        "list2 = list1\n",
        "list3 = [1, 2, 3]\n",
        "\n",
        "# Using 'is' operator\n",
        "print(list1 is list2)  # Output: True (Both list1 and list2 point to the same object)\n",
        "print(list1 is list3)  # Output: False (list1 and list3 are two different objects)\n",
        "\n",
        "# Using 'is not' operator\n",
        "print(list1 is not list3)  # Output: True (list1 and list3 are two different objects)\n",
        "print(list1 is not list2)  # Output: False (Both list1 and list2 point to the same object)"
      ]
    }
  ],
  "metadata": {
    "colab": {
      "provenance": []
    },
    "kernelspec": {
      "display_name": "Python 3",
      "name": "python3"
    },
    "language_info": {
      "codemirror_mode": {
        "name": "ipython",
        "version": 3
      },
      "file_extension": ".py",
      "mimetype": "text/x-python",
      "name": "python",
      "nbconvert_exporter": "python",
      "pygments_lexer": "ipython3",
      "version": "3.12.2"
    }
  },
  "nbformat": 4,
  "nbformat_minor": 0
}
